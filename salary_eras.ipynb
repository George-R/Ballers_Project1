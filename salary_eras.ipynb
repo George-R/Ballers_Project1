{
 "cells": [
  {
   "cell_type": "code",
   "execution_count": 16,
   "metadata": {},
   "outputs": [],
   "source": [
    "import pandas as pd\n",
    "import matplotlib.pyplot as plt\n",
    "import matplotlib.patches as mpatches"
   ]
  },
  {
   "cell_type": "code",
   "execution_count": 2,
   "metadata": {},
   "outputs": [],
   "source": [
    "salary_frame = pd.read_csv('Resources/salaries.csv')"
   ]
  },
  {
   "cell_type": "code",
   "execution_count": 3,
   "metadata": {},
   "outputs": [
    {
     "data": {
      "text/html": [
       "<div>\n",
       "<style scoped>\n",
       "    .dataframe tbody tr th:only-of-type {\n",
       "        vertical-align: middle;\n",
       "    }\n",
       "\n",
       "    .dataframe tbody tr th {\n",
       "        vertical-align: top;\n",
       "    }\n",
       "\n",
       "    .dataframe thead th {\n",
       "        text-align: right;\n",
       "    }\n",
       "</style>\n",
       "<table border=\"1\" class=\"dataframe\">\n",
       "  <thead>\n",
       "    <tr style=\"text-align: right;\">\n",
       "      <th></th>\n",
       "      <th>player_id</th>\n",
       "      <th>salary</th>\n",
       "      <th>season_end</th>\n",
       "    </tr>\n",
       "  </thead>\n",
       "  <tbody>\n",
       "    <tr>\n",
       "      <th>0</th>\n",
       "      <td>abdelal01</td>\n",
       "      <td>395000</td>\n",
       "      <td>1991</td>\n",
       "    </tr>\n",
       "    <tr>\n",
       "      <th>1</th>\n",
       "      <td>abdelal01</td>\n",
       "      <td>494000</td>\n",
       "      <td>1992</td>\n",
       "    </tr>\n",
       "    <tr>\n",
       "      <th>2</th>\n",
       "      <td>abdelal01</td>\n",
       "      <td>500000</td>\n",
       "      <td>1993</td>\n",
       "    </tr>\n",
       "    <tr>\n",
       "      <th>3</th>\n",
       "      <td>abdelal01</td>\n",
       "      <td>805000</td>\n",
       "      <td>1994</td>\n",
       "    </tr>\n",
       "    <tr>\n",
       "      <th>4</th>\n",
       "      <td>abdelal01</td>\n",
       "      <td>650000</td>\n",
       "      <td>1995</td>\n",
       "    </tr>\n",
       "    <tr>\n",
       "      <th>...</th>\n",
       "      <td>...</td>\n",
       "      <td>...</td>\n",
       "      <td>...</td>\n",
       "    </tr>\n",
       "    <tr>\n",
       "      <th>14158</th>\n",
       "      <td>zipsepa01</td>\n",
       "      <td>750000</td>\n",
       "      <td>2017</td>\n",
       "    </tr>\n",
       "    <tr>\n",
       "      <th>14159</th>\n",
       "      <td>zipsepa01</td>\n",
       "      <td>1312611</td>\n",
       "      <td>2018</td>\n",
       "    </tr>\n",
       "    <tr>\n",
       "      <th>14160</th>\n",
       "      <td>zizican01</td>\n",
       "      <td>1645200</td>\n",
       "      <td>2018</td>\n",
       "    </tr>\n",
       "    <tr>\n",
       "      <th>14161</th>\n",
       "      <td>zubaciv01</td>\n",
       "      <td>1034956</td>\n",
       "      <td>2017</td>\n",
       "    </tr>\n",
       "    <tr>\n",
       "      <th>14162</th>\n",
       "      <td>zubaciv01</td>\n",
       "      <td>1312611</td>\n",
       "      <td>2018</td>\n",
       "    </tr>\n",
       "  </tbody>\n",
       "</table>\n",
       "<p>14163 rows × 3 columns</p>\n",
       "</div>"
      ],
      "text/plain": [
       "       player_id   salary  season_end\n",
       "0      abdelal01   395000        1991\n",
       "1      abdelal01   494000        1992\n",
       "2      abdelal01   500000        1993\n",
       "3      abdelal01   805000        1994\n",
       "4      abdelal01   650000        1995\n",
       "...          ...      ...         ...\n",
       "14158  zipsepa01   750000        2017\n",
       "14159  zipsepa01  1312611        2018\n",
       "14160  zizican01  1645200        2018\n",
       "14161  zubaciv01  1034956        2017\n",
       "14162  zubaciv01  1312611        2018\n",
       "\n",
       "[14163 rows x 3 columns]"
      ]
     },
     "execution_count": 3,
     "metadata": {},
     "output_type": "execute_result"
    }
   ],
   "source": [
    "salary_frame\n",
    "\n",
    "salary_frame = salary_frame[['player_id', 'salary', 'season_end']]\n",
    "salary_frame"
   ]
  },
  {
   "cell_type": "code",
   "execution_count": 4,
   "metadata": {},
   "outputs": [
    {
     "data": {
      "text/html": [
       "<div>\n",
       "<style scoped>\n",
       "    .dataframe tbody tr th:only-of-type {\n",
       "        vertical-align: middle;\n",
       "    }\n",
       "\n",
       "    .dataframe tbody tr th {\n",
       "        vertical-align: top;\n",
       "    }\n",
       "\n",
       "    .dataframe thead th {\n",
       "        text-align: right;\n",
       "    }\n",
       "</style>\n",
       "<table border=\"1\" class=\"dataframe\">\n",
       "  <thead>\n",
       "    <tr style=\"text-align: right;\">\n",
       "      <th></th>\n",
       "      <th>player_id</th>\n",
       "      <th>salary</th>\n",
       "      <th>season_end</th>\n",
       "      <th>Year_Bins</th>\n",
       "    </tr>\n",
       "  </thead>\n",
       "  <tbody>\n",
       "    <tr>\n",
       "      <th>0</th>\n",
       "      <td>abdelal01</td>\n",
       "      <td>395000</td>\n",
       "      <td>1991</td>\n",
       "      <td>1990s</td>\n",
       "    </tr>\n",
       "    <tr>\n",
       "      <th>1</th>\n",
       "      <td>abdelal01</td>\n",
       "      <td>494000</td>\n",
       "      <td>1992</td>\n",
       "      <td>1990s</td>\n",
       "    </tr>\n",
       "    <tr>\n",
       "      <th>2</th>\n",
       "      <td>abdelal01</td>\n",
       "      <td>500000</td>\n",
       "      <td>1993</td>\n",
       "      <td>1990s</td>\n",
       "    </tr>\n",
       "    <tr>\n",
       "      <th>3</th>\n",
       "      <td>abdelal01</td>\n",
       "      <td>805000</td>\n",
       "      <td>1994</td>\n",
       "      <td>1990s</td>\n",
       "    </tr>\n",
       "    <tr>\n",
       "      <th>4</th>\n",
       "      <td>abdelal01</td>\n",
       "      <td>650000</td>\n",
       "      <td>1995</td>\n",
       "      <td>1990s</td>\n",
       "    </tr>\n",
       "    <tr>\n",
       "      <th>...</th>\n",
       "      <td>...</td>\n",
       "      <td>...</td>\n",
       "      <td>...</td>\n",
       "      <td>...</td>\n",
       "    </tr>\n",
       "    <tr>\n",
       "      <th>14158</th>\n",
       "      <td>zipsepa01</td>\n",
       "      <td>750000</td>\n",
       "      <td>2017</td>\n",
       "      <td>2010s</td>\n",
       "    </tr>\n",
       "    <tr>\n",
       "      <th>14159</th>\n",
       "      <td>zipsepa01</td>\n",
       "      <td>1312611</td>\n",
       "      <td>2018</td>\n",
       "      <td>2010s</td>\n",
       "    </tr>\n",
       "    <tr>\n",
       "      <th>14160</th>\n",
       "      <td>zizican01</td>\n",
       "      <td>1645200</td>\n",
       "      <td>2018</td>\n",
       "      <td>2010s</td>\n",
       "    </tr>\n",
       "    <tr>\n",
       "      <th>14161</th>\n",
       "      <td>zubaciv01</td>\n",
       "      <td>1034956</td>\n",
       "      <td>2017</td>\n",
       "      <td>2010s</td>\n",
       "    </tr>\n",
       "    <tr>\n",
       "      <th>14162</th>\n",
       "      <td>zubaciv01</td>\n",
       "      <td>1312611</td>\n",
       "      <td>2018</td>\n",
       "      <td>2010s</td>\n",
       "    </tr>\n",
       "  </tbody>\n",
       "</table>\n",
       "<p>14163 rows × 4 columns</p>\n",
       "</div>"
      ],
      "text/plain": [
       "       player_id   salary  season_end Year_Bins\n",
       "0      abdelal01   395000        1991     1990s\n",
       "1      abdelal01   494000        1992     1990s\n",
       "2      abdelal01   500000        1993     1990s\n",
       "3      abdelal01   805000        1994     1990s\n",
       "4      abdelal01   650000        1995     1990s\n",
       "...          ...      ...         ...       ...\n",
       "14158  zipsepa01   750000        2017     2010s\n",
       "14159  zipsepa01  1312611        2018     2010s\n",
       "14160  zizican01  1645200        2018     2010s\n",
       "14161  zubaciv01  1034956        2017     2010s\n",
       "14162  zubaciv01  1312611        2018     2010s\n",
       "\n",
       "[14163 rows x 4 columns]"
      ]
     },
     "execution_count": 4,
     "metadata": {},
     "output_type": "execute_result"
    }
   ],
   "source": [
    "salary_frame['Year_Bins'] = pd.cut(x = salary_frame['season_end'],\n",
    "                                    bins = [0, 1990, 2000, 2010, 2020],\n",
    "                                    labels = [\"1980s\", \"1990s\", \"2000s\", \"2010s\"])\n",
    "\n",
    "salary_frame\n"
   ]
  },
  {
   "cell_type": "code",
   "execution_count": 37,
   "metadata": {},
   "outputs": [
    {
     "data": {
      "image/png": "[encoded data removed]",
      "text/plain": [
       "<Figure size 432x288 with 1 Axes>"
      ]
     },
     "metadata": {
      "needs_background": "light"
     },
     "output_type": "display_data"
    },
    {
     "data": {
      "text/plain": [
       "<Figure size 432x288 with 0 Axes>"
      ]
     },
     "metadata": {},
     "output_type": "display_data"
    }
   ],
   "source": [
    "salary_1980 = salary_frame[salary_frame['Year_Bins'] == '1980s']\n",
    "salary_1990 = salary_frame[salary_frame['Year_Bins'] == '1990s']\n",
    "salary_2000 = salary_frame[salary_frame['Year_Bins'] == '2000s']\n",
    "salary_2010 = salary_frame[salary_frame['Year_Bins'] == '2010s']\n",
    "\n",
    "\n",
    "salary_1980['salary'].plot.density(color='blue')\n",
    "salary_1990['salary'].plot.density(color='red')\n",
    "salary_2000['salary'].plot.density(color='green')\n",
    "salary_2010['salary'].plot.density(color='yellow')\n",
    "\n",
    "colors = ['blue', 'red', 'green', 'yellow']\n",
    "\n",
    "blue_line = mpatches.Patch(color='blue', label='1980 Salary Distribution')\n",
    "red_line = mpatches.Patch(color='red', label='1990 Salary Distribution')\n",
    "green_line = mpatches.Patch(color='green', label='2000 Salary Distribution')\n",
    "yellow_line = mpatches.Patch(color='yellow', label='2010 Salary Distribution')\n",
    "\n",
    "\n",
    "plt.legend(handles= [blue_line, red_line, green_line, yellow_line])\n",
    "plt.title('Era Salary Distribution', fontsize=15)\n",
    "plt.show()\n",
    "plt.savefig(\"output_images/Era Salary Distribution\")\n"
   ]
  },
  {
   "cell_type": "code",
   "execution_count": 6,
   "metadata": {},
   "outputs": [
    {
     "data": {
      "text/html": [
       "<div>\n",
       "<style scoped>\n",
       "    .dataframe tbody tr th:only-of-type {\n",
       "        vertical-align: middle;\n",
       "    }\n",
       "\n",
       "    .dataframe tbody tr th {\n",
       "        vertical-align: top;\n",
       "    }\n",
       "\n",
       "    .dataframe thead th {\n",
       "        text-align: right;\n",
       "    }\n",
       "</style>\n",
       "<table border=\"1\" class=\"dataframe\">\n",
       "  <thead>\n",
       "    <tr style=\"text-align: right;\">\n",
       "      <th></th>\n",
       "      <th>Eras</th>\n",
       "      <th>Average Salary</th>\n",
       "    </tr>\n",
       "  </thead>\n",
       "  <tbody>\n",
       "    <tr>\n",
       "      <th>0</th>\n",
       "      <td>1980</td>\n",
       "      <td>511014.07</td>\n",
       "    </tr>\n",
       "    <tr>\n",
       "      <th>1</th>\n",
       "      <td>1990</td>\n",
       "      <td>1671198.85</td>\n",
       "    </tr>\n",
       "    <tr>\n",
       "      <th>2</th>\n",
       "      <td>2000</td>\n",
       "      <td>3859651.88</td>\n",
       "    </tr>\n",
       "    <tr>\n",
       "      <th>3</th>\n",
       "      <td>2010</td>\n",
       "      <td>4704301.40</td>\n",
       "    </tr>\n",
       "  </tbody>\n",
       "</table>\n",
       "</div>"
      ],
      "text/plain": [
       "   Eras  Average Salary\n",
       "0  1980       511014.07\n",
       "1  1990      1671198.85\n",
       "2  2000      3859651.88\n",
       "3  2010      4704301.40"
      ]
     },
     "execution_count": 6,
     "metadata": {},
     "output_type": "execute_result"
    }
   ],
   "source": [
    "salary_80 = round(salary_1980['salary'].mean(), 2)\n",
    "\n",
    "\n",
    "salary_90 = round(salary_1990['salary'].mean(), 2)\n",
    "\n",
    "\n",
    "salary_00 = round(salary_2000['salary'].mean(), 2)\n",
    "\n",
    "\n",
    "salary_10 = round(salary_2010['salary'].mean(), 2)\n",
    "\n",
    "\n",
    "\n",
    "eras_salary = pd.DataFrame({'Eras': [1980, 1990, 2000,2010],\n",
    "                                    'Average Salary': [salary_80, salary_90, salary_00, salary_10],\n",
    "                                     })\n",
    "\n",
    "eras_salary"
   ]
  },
  {
   "cell_type": "code",
   "execution_count": 36,
   "metadata": {},
   "outputs": [
    {
     "data": {
      "image/png": "[encoded data removed]",
      "text/plain": [
       "<Figure size 432x288 with 1 Axes>"
      ]
     },
     "metadata": {
      "needs_background": "light"
     },
     "output_type": "display_data"
    }
   ],
   "source": [
    "ax = plt.subplot(111)\n",
    "w = 2\n",
    "ax.bar(eras_salary['Eras'], eras_salary['Average Salary'], width=5, color='black', align='center')\n",
    "plt.title('Salary Average per Era', fontsize=15)\n",
    "plt.xlabel(\"Eras\")\n",
    "plt.ylabel('Dollars ($)')\n",
    "plt.savefig(\"output_images/Salary Averages per Era\")"
   ]
  },
  {
   "cell_type": "code",
   "execution_count": null,
   "metadata": {},
   "outputs": [],
   "source": []
  }
 ],
 "metadata": {
  "kernelspec": {
   "display_name": "Python 3",
   "language": "python",
   "name": "python3"
  },
  "language_info": {
   "codemirror_mode": {
    "name": "ipython",
    "version": 3
   },
   "file_extension": ".py",
   "mimetype": "text/x-python",
   "name": "python",
   "nbconvert_exporter": "python",
   "pygments_lexer": "ipython3",
   "version": "3.8.3"
  }
 },
 "nbformat": 4,
 "nbformat_minor": 4
}
