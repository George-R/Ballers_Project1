{
 "cells": [
  {
   "cell_type": "markdown",
   "metadata": {},
   "source": [
    "## Build team wins file"
   ]
  },
  {
   "cell_type": "code",
   "execution_count": 1,
   "metadata": {},
   "outputs": [],
   "source": [
    "# dependencies\n",
    "import pandas as pd"
   ]
  },
  {
   "cell_type": "code",
   "execution_count": 2,
   "metadata": {},
   "outputs": [],
   "source": [
    "# consuming data file with years from 2014 and 2018\n",
    "teamWins_df = pd.read_csv('Resources/winloss_by_teams.csv')"
   ]
  },
  {
   "cell_type": "markdown",
   "metadata": {},
   "source": [
    "### Data Cleansing and Checks"
   ]
  },
  {
   "cell_type": "code",
   "execution_count": 3,
   "metadata": {},
   "outputs": [
    {
     "data": {
      "text/plain": [
       "Index(['TeamName', 'League', 'Season', 'Division', 'Franchise', 'Team', 'W',\n",
       "       'L', '%'],\n",
       "      dtype='object')"
      ]
     },
     "execution_count": 3,
     "metadata": {},
     "output_type": "execute_result"
    }
   ],
   "source": [
    "# check all columns and names\n",
    "teamWins_df.columns"
   ]
  },
  {
   "cell_type": "code",
   "execution_count": 4,
   "metadata": {},
   "outputs": [],
   "source": [
    "# cleaning up the dataset\n",
    "removed1 = teamWins_df.replace({'NBA':''}, regex=True)\n",
    "replace1 = removed1.replace({'BRO':'BRK'}, regex=True)\n",
    "replace2 = replace1.replace({'CHA':'CHO'}, regex=True)\n",
    "replace3 = replace2.replace({'OCT':'OKC'}, regex=True)"
   ]
  },
  {
   "cell_type": "code",
   "execution_count": 5,
   "metadata": {},
   "outputs": [
    {
     "data": {
      "text/html": [
       "<div>\n",
       "<style scoped>\n",
       "    .dataframe tbody tr th:only-of-type {\n",
       "        vertical-align: middle;\n",
       "    }\n",
       "\n",
       "    .dataframe tbody tr th {\n",
       "        vertical-align: top;\n",
       "    }\n",
       "\n",
       "    .dataframe thead th {\n",
       "        text-align: right;\n",
       "    }\n",
       "</style>\n",
       "<table border=\"1\" class=\"dataframe\">\n",
       "  <thead>\n",
       "    <tr style=\"text-align: right;\">\n",
       "      <th></th>\n",
       "      <th>TeamName</th>\n",
       "      <th>League</th>\n",
       "      <th>Season</th>\n",
       "      <th>Division</th>\n",
       "      <th>Franchise</th>\n",
       "      <th>Team</th>\n",
       "      <th>W</th>\n",
       "      <th>L</th>\n",
       "      <th>%</th>\n",
       "    </tr>\n",
       "  </thead>\n",
       "  <tbody>\n",
       "    <tr>\n",
       "      <th>1364</th>\n",
       "      <td>Toronto Raptors</td>\n",
       "      <td></td>\n",
       "      <td>(2014-15)</td>\n",
       "      <td>Atlantic Division</td>\n",
       "      <td>Toronto Raptors</td>\n",
       "      <td>TOR</td>\n",
       "      <td>49</td>\n",
       "      <td>33</td>\n",
       "      <td>59.80%</td>\n",
       "    </tr>\n",
       "    <tr>\n",
       "      <th>1365</th>\n",
       "      <td>Boston Celtics</td>\n",
       "      <td></td>\n",
       "      <td>(2014-15)</td>\n",
       "      <td>Atlantic Division</td>\n",
       "      <td>Boston Celtics</td>\n",
       "      <td>BOS</td>\n",
       "      <td>40</td>\n",
       "      <td>42</td>\n",
       "      <td>48.80%</td>\n",
       "    </tr>\n",
       "    <tr>\n",
       "      <th>1366</th>\n",
       "      <td>Brooklyn Nets</td>\n",
       "      <td></td>\n",
       "      <td>(2014-15)</td>\n",
       "      <td>Atlantic Division</td>\n",
       "      <td>Brooklyn Nets</td>\n",
       "      <td>BRK</td>\n",
       "      <td>38</td>\n",
       "      <td>44</td>\n",
       "      <td>46.30%</td>\n",
       "    </tr>\n",
       "    <tr>\n",
       "      <th>1367</th>\n",
       "      <td>Philadelphia 76ers</td>\n",
       "      <td></td>\n",
       "      <td>(2014-15)</td>\n",
       "      <td>Atlantic Division</td>\n",
       "      <td>Philadelphia 76ers</td>\n",
       "      <td>PHI</td>\n",
       "      <td>18</td>\n",
       "      <td>64</td>\n",
       "      <td>22.00%</td>\n",
       "    </tr>\n",
       "    <tr>\n",
       "      <th>1368</th>\n",
       "      <td>New York Knicks</td>\n",
       "      <td></td>\n",
       "      <td>(2014-15)</td>\n",
       "      <td>Atlantic Division</td>\n",
       "      <td>New York Knicks</td>\n",
       "      <td>NYK</td>\n",
       "      <td>17</td>\n",
       "      <td>65</td>\n",
       "      <td>20.70%</td>\n",
       "    </tr>\n",
       "  </tbody>\n",
       "</table>\n",
       "</div>"
      ],
      "text/plain": [
       "                TeamName League     Season           Division  \\\n",
       "1364     Toronto Raptors         (2014-15)  Atlantic Division   \n",
       "1365      Boston Celtics         (2014-15)  Atlantic Division   \n",
       "1366       Brooklyn Nets         (2014-15)  Atlantic Division   \n",
       "1367  Philadelphia 76ers         (2014-15)  Atlantic Division   \n",
       "1368     New York Knicks         (2014-15)  Atlantic Division   \n",
       "\n",
       "               Franchise Team   W   L       %  \n",
       "1364     Toronto Raptors  TOR  49  33  59.80%  \n",
       "1365      Boston Celtics  BOS  40  42  48.80%  \n",
       "1366       Brooklyn Nets  BRK  38  44  46.30%  \n",
       "1367  Philadelphia 76ers  PHI  18  64  22.00%  \n",
       "1368     New York Knicks  NYK  17  65  20.70%  "
      ]
     },
     "execution_count": 5,
     "metadata": {},
     "output_type": "execute_result"
    }
   ],
   "source": [
    "teamWins_df_clean = replace3.loc[(replace3['Season'] >= '(2014-15)') & (replace3['Season'] <= '(2018-19)'),:]\n",
    "teamWins_df_clean.head()"
   ]
  },
  {
   "cell_type": "code",
   "execution_count": 8,
   "metadata": {},
   "outputs": [
    {
     "name": "stderr",
     "output_type": "stream",
     "text": [
      "<ipython-input-8-ae5bd717bdfb>:2: SettingWithCopyWarning: \n",
      "A value is trying to be set on a copy of a slice from a DataFrame.\n",
      "Try using .loc[row_indexer,col_indexer] = value instead\n",
      "\n",
      "See the caveats in the documentation: https://pandas.pydata.org/pandas-docs/stable/user_guide/indexing.html#returning-a-view-versus-a-copy\n",
      "  teamWins_df_clean['Year'] = teamWins_df_clean['Season'].str[1:5]\n"
     ]
    }
   ],
   "source": [
    "# convert season format to year column\n",
    "teamWins_df_clean['Year'] = teamWins_df_clean['Season'].str[1:5]"
   ]
  },
  {
   "cell_type": "code",
   "execution_count": 9,
   "metadata": {},
   "outputs": [
    {
     "data": {
      "text/plain": [
       "TeamName     150\n",
       "League       150\n",
       "Season       150\n",
       "Division     150\n",
       "Franchise    150\n",
       "Team         150\n",
       "W            150\n",
       "L            150\n",
       "%            150\n",
       "Year         150\n",
       "dtype: int64"
      ]
     },
     "execution_count": 9,
     "metadata": {},
     "output_type": "execute_result"
    }
   ],
   "source": [
    "# checking data counts\n",
    "teamWins_df_clean.count()"
   ]
  },
  {
   "cell_type": "code",
   "execution_count": 11,
   "metadata": {},
   "outputs": [
    {
     "data": {
      "text/plain": [
       "False"
      ]
     },
     "execution_count": 11,
     "metadata": {},
     "output_type": "execute_result"
    }
   ],
   "source": [
    "# check NaN values before replacing it with 0\n",
    "teamWins_df_clean.isnull().values.any()"
   ]
  },
  {
   "cell_type": "code",
   "execution_count": 12,
   "metadata": {},
   "outputs": [],
   "source": [
    "# saving output\n",
    "teamWins_df_clean.to_csv(\"output/team_wins.csv\", encoding=\"utf-8\", index=False, header=True)"
   ]
  },
  {
   "cell_type": "code",
   "execution_count": null,
   "metadata": {},
   "outputs": [],
   "source": []
  }
 ],
 "metadata": {
  "kernelspec": {
   "display_name": "Python 3",
   "language": "python",
   "name": "python3"
  },
  "language_info": {
   "codemirror_mode": {
    "name": "ipython",
    "version": 3
   },
   "file_extension": ".py",
   "mimetype": "text/x-python",
   "name": "python",
   "nbconvert_exporter": "python",
   "pygments_lexer": "ipython3",
   "version": "3.8.3"
  }
 },
 "nbformat": 4,
 "nbformat_minor": 4
}
