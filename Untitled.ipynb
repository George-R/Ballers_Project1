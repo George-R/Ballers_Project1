{
 "cells": [
  {
   "cell_type": "code",
   "execution_count": 1,
   "metadata": {},
   "outputs": [],
   "source": [
    "import pandas as pd \n",
    "import json\n",
    "import os\n",
    "import requests\n"
   ]
  },
  {
   "cell_type": "code",
   "execution_count": null,
   "metadata": {},
   "outputs": [],
   "source": [
    "url = \"https://stats.nba.com/stats/scoreboardV2?DayOffset=0&LeagueID=00&gameDate=03/03/2019\"\n",
    "requests.get(url)\n",
    "\n",
    "\n",
    "games = data[\"resultSets\"][0][\"rowSet\"]\n",
    "for i in range(0, len(games)):\n",
    "   game_id = games[i][2]\n",
    "   game_ids.append(game_id)\n",
    "    \n",
    "game_id"
   ]
  },
  {
   "cell_type": "code",
   "execution_count": null,
   "metadata": {},
   "outputs": [],
   "source": [
    "def fetch_game_ids(self):\n",
    "   with self.conn.cursor() as cursor:\n",
    "       query = \"SELECT GameId FROM Games\"\n",
    "       cursor.execute(query)\n",
    "       return [r[0] for r in cursor.fetchall()]\n",
    "\n",
    "def make_game_request(self, game_id):\n",
    "   sleep(1)  # seconds\n",
    "   url = \"https://stats.nba.com/stats/boxscoresummaryv2?GameID={game_id}\".format(game_id=str(game_id))\n",
    "   return requests.get(url, headers=self.headers)\n",
    "\n",
    "def game_details(self):\n",
    "   game_ids = self.fetch_game_ids()\n",
    "   for id in game_ids:\n",
    "       data = self.make_game_request(id).json()"
   ]
  },
  {
   "cell_type": "code",
   "execution_count": null,
   "metadata": {},
   "outputs": [],
   "source": [
    " with self.conn.cursor() as cursor:\n",
    "    query = (\"INSERT IGNORE INTO GameStats (\"\n",
    "            \"GameId, GameDate, AwayTeam, HomeTeam, LastMeetingWinner, Q1AwayPts, \"\n",
    "            \"Q2AwayPts, Q3AwayPts, Q4AwayPts, Q1HomePts, Q2HomePts, Q3HomePts, Q4HomePts, \"\n",
    "            \"Referee1, Referee2, Referee3, TimesTied, LeadChanges, Winner\"\n",
    "            \") VALUES (%s, %s, %s, %s, %s, %s, %s, %s, %s, %s, %s, %s, %s, %s, %s, %s, %s, %s, %s)\")\n",
    "    params = self.filter_details(data)\n",
    "    cursor.execute(query, params)\n",
    "    self.conn.commit()"
   ]
  },
  {
   "cell_type": "code",
   "execution_count": null,
   "metadata": {},
   "outputs": [],
   "source": [
    "def describe(self):\n",
    "   query = (\"SELECT *, (Q1Pts+Q2Pts+Q3Pts+Q4Pts) AS GamePts FROM \"\n",
    "            \"( SELECT (Q1HomePts+Q1AwayPts) AS Q1Pts, (Q2HomePts+Q2AwayPts) AS Q2Pts, (Q3HomePts+Q3AwayPts) AS Q3Pts, \"\n",
    "            \"(Q4HomePts+Q4AwayPts) AS Q4Pts, TimesTied, LeadChanges FROM GameStats\"\n",
    "            \") s\")\n",
    "   df = pd.read_sql(query, self.conn)\n",
    "   d = {'Mean': df.mean(),\n",
    "        'Min': df.min(),\n",
    "        'Max': df.max(),\n",
    "        'Median': df.median()}\n",
    "   return pd.DataFrame.from_dict(d, dtype='int32')[[\"Min\", \"Max\", \"Mean\", \"Median\"]]\n",
    "\n",
    "print(self)"
   ]
  },
  {
   "cell_type": "code",
   "execution_count": null,
   "metadata": {},
   "outputs": [],
   "source": []
  },
  {
   "cell_type": "code",
   "execution_count": null,
   "metadata": {},
   "outputs": [],
   "source": []
  }
 ],
 "metadata": {
  "kernelspec": {
   "display_name": "Python 3",
   "language": "python",
   "name": "python3"
  },
  "language_info": {
   "codemirror_mode": {
    "name": "ipython",
    "version": 3
   },
   "file_extension": ".py",
   "mimetype": "text/x-python",
   "name": "python",
   "nbconvert_exporter": "python",
   "pygments_lexer": "ipython3",
   "version": "3.8.3"
  }
 },
 "nbformat": 4,
 "nbformat_minor": 4
}
