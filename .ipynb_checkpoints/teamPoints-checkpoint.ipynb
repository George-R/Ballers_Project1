{
 "cells": [
  {
   "cell_type": "markdown",
   "metadata": {},
   "source": [
    "## Build team points file"
   ]
  },
  {
   "cell_type": "code",
   "execution_count": 5,
   "metadata": {},
   "outputs": [],
   "source": [
    "# dependencies\n",
    "import pandas as pd"
   ]
  },
  {
   "cell_type": "code",
   "execution_count": 6,
   "metadata": {},
   "outputs": [],
   "source": [
    "# consuming data file with years from 2014 and 2018\n",
    "teamPoints_df = pd.read_csv('Resources/nba.games.stats.csv')"
   ]
  },
  {
   "cell_type": "markdown",
   "metadata": {},
   "source": [
    "### Data Cleansing and Checks"
   ]
  },
  {
   "cell_type": "code",
   "execution_count": 7,
   "metadata": {},
   "outputs": [
    {
     "data": {
      "text/plain": [
       "Index(['Unnamed: 0', 'Team', 'Game', 'Date', 'Home', 'Opponent', 'WINorLOSS',\n",
       "       'TeamPoints', 'OpponentPoints', 'FieldGoals', 'FieldGoalsAttempted',\n",
       "       'FieldGoals.', 'X3PointShots', 'X3PointShotsAttempted', 'X3PointShots.',\n",
       "       'FreeThrows', 'FreeThrowsAttempted', 'FreeThrows.', 'OffRebounds',\n",
       "       'TotalRebounds', 'Assists', 'Steals', 'Blocks', 'Turnovers',\n",
       "       'TotalFouls', 'Opp.FieldGoals', 'Opp.FieldGoalsAttempted',\n",
       "       'Opp.FieldGoals.', 'Opp.3PointShots', 'Opp.3PointShotsAttempted',\n",
       "       'Opp.3PointShots.', 'Opp.FreeThrows', 'Opp.FreeThrowsAttempted',\n",
       "       'Opp.FreeThrows.', 'Opp.OffRebounds', 'Opp.TotalRebounds',\n",
       "       'Opp.Assists', 'Opp.Steals', 'Opp.Blocks', 'Opp.Turnovers',\n",
       "       'Opp.TotalFouls'],\n",
       "      dtype='object')"
      ]
     },
     "execution_count": 7,
     "metadata": {},
     "output_type": "execute_result"
    }
   ],
   "source": [
    "# check all columns and names\n",
    "teamPoints_df.columns"
   ]
  },
  {
   "cell_type": "code",
   "execution_count": 8,
   "metadata": {},
   "outputs": [],
   "source": [
    "# convert dates to year column\n",
    "teamPoints_df['Year'] = teamPoints_df['Date'].str[:4]"
   ]
  },
  {
   "cell_type": "code",
   "execution_count": 9,
   "metadata": {},
   "outputs": [
    {
     "data": {
      "text/html": [
       "<div>\n",
       "<style scoped>\n",
       "    .dataframe tbody tr th:only-of-type {\n",
       "        vertical-align: middle;\n",
       "    }\n",
       "\n",
       "    .dataframe tbody tr th {\n",
       "        vertical-align: top;\n",
       "    }\n",
       "\n",
       "    .dataframe thead th {\n",
       "        text-align: right;\n",
       "    }\n",
       "</style>\n",
       "<table border=\"1\" class=\"dataframe\">\n",
       "  <thead>\n",
       "    <tr style=\"text-align: right;\">\n",
       "      <th></th>\n",
       "      <th>index</th>\n",
       "      <th>Year</th>\n",
       "      <th>Team</th>\n",
       "      <th>WINorLOSS</th>\n",
       "      <th>TeamPoints</th>\n",
       "      <th>Assists</th>\n",
       "      <th>FieldGoals</th>\n",
       "      <th>TotalRebounds</th>\n",
       "    </tr>\n",
       "  </thead>\n",
       "  <tbody>\n",
       "    <tr>\n",
       "      <th>0</th>\n",
       "      <td>0</td>\n",
       "      <td>2014</td>\n",
       "      <td>ATL</td>\n",
       "      <td>L</td>\n",
       "      <td>102</td>\n",
       "      <td>26</td>\n",
       "      <td>40</td>\n",
       "      <td>42</td>\n",
       "    </tr>\n",
       "    <tr>\n",
       "      <th>1</th>\n",
       "      <td>1</td>\n",
       "      <td>2014</td>\n",
       "      <td>ATL</td>\n",
       "      <td>W</td>\n",
       "      <td>102</td>\n",
       "      <td>26</td>\n",
       "      <td>35</td>\n",
       "      <td>37</td>\n",
       "    </tr>\n",
       "    <tr>\n",
       "      <th>2</th>\n",
       "      <td>2</td>\n",
       "      <td>2014</td>\n",
       "      <td>ATL</td>\n",
       "      <td>L</td>\n",
       "      <td>92</td>\n",
       "      <td>26</td>\n",
       "      <td>38</td>\n",
       "      <td>37</td>\n",
       "    </tr>\n",
       "    <tr>\n",
       "      <th>3</th>\n",
       "      <td>3</td>\n",
       "      <td>2014</td>\n",
       "      <td>ATL</td>\n",
       "      <td>L</td>\n",
       "      <td>119</td>\n",
       "      <td>28</td>\n",
       "      <td>43</td>\n",
       "      <td>38</td>\n",
       "    </tr>\n",
       "    <tr>\n",
       "      <th>4</th>\n",
       "      <td>4</td>\n",
       "      <td>2014</td>\n",
       "      <td>ATL</td>\n",
       "      <td>W</td>\n",
       "      <td>103</td>\n",
       "      <td>18</td>\n",
       "      <td>33</td>\n",
       "      <td>41</td>\n",
       "    </tr>\n",
       "    <tr>\n",
       "      <th>...</th>\n",
       "      <td>...</td>\n",
       "      <td>...</td>\n",
       "      <td>...</td>\n",
       "      <td>...</td>\n",
       "      <td>...</td>\n",
       "      <td>...</td>\n",
       "      <td>...</td>\n",
       "      <td>...</td>\n",
       "    </tr>\n",
       "    <tr>\n",
       "      <th>9835</th>\n",
       "      <td>9835</td>\n",
       "      <td>2018</td>\n",
       "      <td>WAS</td>\n",
       "      <td>L</td>\n",
       "      <td>104</td>\n",
       "      <td>25</td>\n",
       "      <td>38</td>\n",
       "      <td>36</td>\n",
       "    </tr>\n",
       "    <tr>\n",
       "      <th>9836</th>\n",
       "      <td>9836</td>\n",
       "      <td>2018</td>\n",
       "      <td>WAS</td>\n",
       "      <td>L</td>\n",
       "      <td>115</td>\n",
       "      <td>34</td>\n",
       "      <td>47</td>\n",
       "      <td>41</td>\n",
       "    </tr>\n",
       "    <tr>\n",
       "      <th>9837</th>\n",
       "      <td>9837</td>\n",
       "      <td>2018</td>\n",
       "      <td>WAS</td>\n",
       "      <td>L</td>\n",
       "      <td>97</td>\n",
       "      <td>18</td>\n",
       "      <td>35</td>\n",
       "      <td>45</td>\n",
       "    </tr>\n",
       "    <tr>\n",
       "      <th>9838</th>\n",
       "      <td>9838</td>\n",
       "      <td>2018</td>\n",
       "      <td>WAS</td>\n",
       "      <td>W</td>\n",
       "      <td>113</td>\n",
       "      <td>32</td>\n",
       "      <td>41</td>\n",
       "      <td>51</td>\n",
       "    </tr>\n",
       "    <tr>\n",
       "      <th>9839</th>\n",
       "      <td>9839</td>\n",
       "      <td>2018</td>\n",
       "      <td>WAS</td>\n",
       "      <td>L</td>\n",
       "      <td>92</td>\n",
       "      <td>17</td>\n",
       "      <td>33</td>\n",
       "      <td>50</td>\n",
       "    </tr>\n",
       "  </tbody>\n",
       "</table>\n",
       "<p>9840 rows × 8 columns</p>\n",
       "</div>"
      ],
      "text/plain": [
       "      index  Year Team WINorLOSS  TeamPoints  Assists  FieldGoals  \\\n",
       "0         0  2014  ATL         L         102       26          40   \n",
       "1         1  2014  ATL         W         102       26          35   \n",
       "2         2  2014  ATL         L          92       26          38   \n",
       "3         3  2014  ATL         L         119       28          43   \n",
       "4         4  2014  ATL         W         103       18          33   \n",
       "...     ...   ...  ...       ...         ...      ...         ...   \n",
       "9835   9835  2018  WAS         L         104       25          38   \n",
       "9836   9836  2018  WAS         L         115       34          47   \n",
       "9837   9837  2018  WAS         L          97       18          35   \n",
       "9838   9838  2018  WAS         W         113       32          41   \n",
       "9839   9839  2018  WAS         L          92       17          33   \n",
       "\n",
       "      TotalRebounds  \n",
       "0                42  \n",
       "1                37  \n",
       "2                37  \n",
       "3                38  \n",
       "4                41  \n",
       "...             ...  \n",
       "9835             36  \n",
       "9836             41  \n",
       "9837             45  \n",
       "9838             51  \n",
       "9839             50  \n",
       "\n",
       "[9840 rows x 8 columns]"
      ]
     },
     "execution_count": 9,
     "metadata": {},
     "output_type": "execute_result"
    }
   ],
   "source": [
    "# reducing the dataset fields to only ibnterested columns\n",
    "reduced_df = teamPoints_df.loc[:, ['Year','Team', 'WINorLOSS','TeamPoints','Assists','FieldGoals', 'TotalRebounds']].reset_index()\n",
    "reduced_df"
   ]
  },
  {
   "cell_type": "code",
   "execution_count": 11,
   "metadata": {},
   "outputs": [],
   "source": [
    "# only pick wins\n",
    "WinsOnly_df = reduced_df.loc[reduced_df['WINorLOSS'] == 'W',:]"
   ]
  },
  {
   "cell_type": "code",
   "execution_count": 13,
   "metadata": {},
   "outputs": [
    {
     "name": "stderr",
     "output_type": "stream",
     "text": [
      "<ipython-input-13-fb6ae49336be>:1: FutureWarning: Indexing with multiple keys (implicitly converted to a tuple of keys) will be deprecated, use a list instead.\n",
      "  teamPoints_df_clean = WinsOnly_df.groupby(['Team','Year','WINorLOSS'])['TeamPoints','Assists','FieldGoals', 'TotalRebounds'].sum()\n"
     ]
    }
   ],
   "source": [
    "teamPoints_df_clean = WinsOnly_df.groupby(['Team','Year','WINorLOSS'])['TeamPoints','Assists','FieldGoals', 'TotalRebounds'].sum()"
   ]
  },
  {
   "cell_type": "code",
   "execution_count": 14,
   "metadata": {},
   "outputs": [
    {
     "data": {
      "text/plain": [
       "TeamPoints       150\n",
       "Assists          150\n",
       "FieldGoals       150\n",
       "TotalRebounds    150\n",
       "dtype: int64"
      ]
     },
     "execution_count": 14,
     "metadata": {},
     "output_type": "execute_result"
    }
   ],
   "source": [
    "# checking data counts\n",
    "teamPoints_df_clean.count()"
   ]
  },
  {
   "cell_type": "code",
   "execution_count": 15,
   "metadata": {},
   "outputs": [
    {
     "data": {
      "text/plain": [
       "False"
      ]
     },
     "execution_count": 15,
     "metadata": {},
     "output_type": "execute_result"
    }
   ],
   "source": [
    "# check NaN values before replacing it with 0\n",
    "teamPoints_df_clean.isnull().values.any()"
   ]
  },
  {
   "cell_type": "code",
   "execution_count": null,
   "metadata": {},
   "outputs": [],
   "source": [
    "# saving output\n",
    "teamPoints_df_clean.to_csv(\"output/team_points.csv\", encoding=\"utf-8\", index=True, header=True)"
   ]
  }
 ],
 "metadata": {
  "kernelspec": {
   "display_name": "Python 3",
   "language": "python",
   "name": "python3"
  },
  "language_info": {
   "codemirror_mode": {
    "name": "ipython",
    "version": 3
   },
   "file_extension": ".py",
   "mimetype": "text/x-python",
   "name": "python",
   "nbconvert_exporter": "python",
   "pygments_lexer": "ipython3",
   "version": "3.8.3"
  }
 },
 "nbformat": 4,
 "nbformat_minor": 4
}
