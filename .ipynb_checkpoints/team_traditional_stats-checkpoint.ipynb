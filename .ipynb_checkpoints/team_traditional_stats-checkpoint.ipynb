{
 "cells": [
  {
   "cell_type": "markdown",
   "metadata": {},
   "source": [
    "### Which traditional stat is most important?\n",
    "* Data Needed: Player name, points, assists, rebounds, FG%, team margin\n",
    "\n",
    "* Find correlation between winning and an imputed stats (points, assists, rebounds, FG%).\n",
    "  Scatter Plot"
   ]
  },
  {
   "cell_type": "code",
   "execution_count": 4,
   "metadata": {},
   "outputs": [],
   "source": [
    "# dependencies\n",
    "import pandas as pd\n",
    "import matplotlib.pyplot as plt\n",
    "import scipy.stats as sts\n",
    "import numpy as np"
   ]
  },
  {
   "cell_type": "code",
   "execution_count": 28,
   "metadata": {},
   "outputs": [],
   "source": [
    "# read in files\n",
    "teamPoints = pd.read_csv('output/team_points.csv')\n",
    "teamWins = pd.read_csv('output/team_wins.csv')"
   ]
  },
  {
   "cell_type": "code",
   "execution_count": 14,
   "metadata": {},
   "outputs": [],
   "source": [
    "# merge team points and team wins csv files\n",
    "merged_df = pd.merge(teamPoints,teamWins, on=['Team','Year'],how='outer')"
   ]
  },
  {
   "cell_type": "code",
   "execution_count": 4,
   "metadata": {},
   "outputs": [],
   "source": [
    "merged_reduced_df = merged_df.loc[:,['Team','W','TeamPoints','Assists','FieldGoals','TotalRebounds']]"
   ]
  },
  {
   "cell_type": "code",
   "execution_count": 5,
   "metadata": {},
   "outputs": [
    {
     "name": "stderr",
     "output_type": "stream",
     "text": [
      "<ipython-input-5-658d23ebefc1>:1: FutureWarning: Indexing with multiple keys (implicitly converted to a tuple of keys) will be deprecated, use a list instead.\n",
      "  merged_grp_teams = merged_reduced_df.groupby('Team')['W','TeamPoints','Assists','FieldGoals','TotalRebounds'].sum().reset_index()\n"
     ]
    }
   ],
   "source": [
    "merged_grp_teams = merged_reduced_df.groupby('Team')['W','TeamPoints','Assists','FieldGoals','TotalRebounds'].sum().reset_index()"
   ]
  },
  {
   "cell_type": "code",
   "execution_count": 15,
   "metadata": {},
   "outputs": [],
   "source": [
    "traditional_stats = merged_grp_teams.rename(columns={'Team': 'Teams', \n",
    "                                                     'W': 'Wins', \n",
    "                                                     'TeamPoints': 'Points', \n",
    "                                                     'Assists': 'Assists', \n",
    "                                                     'FieldGoals': 'Field Goals', \n",
    "                                                     'TotalRebounds': 'Rebounds'})"
   ]
  },
  {
   "cell_type": "code",
   "execution_count": null,
   "metadata": {},
   "outputs": [],
   "source": [
    "#merged_df.to_csv(\"output/merged_df.csv\", encoding=\"utf-8\", index=False, header=True)"
   ]
  },
  {
   "cell_type": "code",
   "execution_count": null,
   "metadata": {},
   "outputs": [],
   "source": [
    "# Calculate the correlation coefficient and linear regression model for wins vs. points\n",
    "correlation_coefficient = round(sts.pearsonr(traditional_stats['Wins'], traditional_stats['Points'])[0],4)\n",
    "\n",
    "print(f'The correlation coefficient for team Wins to team Points is: {correlation_coefficient}\\n')\n",
    "\n",
    "(slope, intercept, rvalue, pvalue, stderr) = sts.linregress(traditional_stats['Wins'], traditional_stats['Points'])\n",
    "regress_values = slope * traditional_stats['Wins'] + intercept\n",
    "#print(regress_values)\n",
    "\n",
    "equation = 'y = ' + str(round(slope, 2)) + 'x + ' + str(round(intercept, 2))\n",
    "print(f'the regression equation is: {equation}\\n')\n",
    "print(f'the r value is: {rvalue}\\n')\n",
    "\n",
    "plt.figure(figsize=(15,8))\n",
    "plt.scatter(traditional_stats['Wins'], traditional_stats['Points'], s=50, c='steelblue')\n",
    "#plt.scatter(traditional_stats['Wins'], traditional_stats['Assists'], s=50, c='green')\n",
    "plt.plot(traditional_stats['Wins'], regress_values, color='red')\n",
    "plt.title('Wins to Points',fontsize =20, color='midnightblue')\n",
    "plt.xlabel('Wins',fontsize=15, color='midnightblue')\n",
    "plt.ylabel('Points',fontsize =15, color='midnightblue')\n",
    "plt.annotate(equation, xy=(250,20000), fontsize=20, color='red')\n",
    "plt.grid(color='royalblue', linestyle='--', linewidth=0.5)\n",
    "plt.show()"
   ]
  },
  {
   "cell_type": "code",
   "execution_count": null,
   "metadata": {},
   "outputs": [],
   "source": [
    "# Calculate the correlation coefficient and linear regression model for wins vs. assists\n",
    "correlation_coefficient = round(sts.pearsonr(traditional_stats['Wins'], traditional_stats['Assists'])[0],4)\n",
    "\n",
    "print(f'The correlation coefficient for team Wins to team assists is: {correlation_coefficient}\\n')\n",
    "\n",
    "(slope, intercept, rvalue, pvalue, stderr) = sts.linregress(traditional_stats['Wins'], traditional_stats['Assists'])\n",
    "regress_values = slope * traditional_stats['Wins'] + intercept\n",
    "#print(regress_values)\n",
    "\n",
    "equation = 'y = ' + str(round(slope, 2)) + 'x + ' + str(round(intercept, 2))\n",
    "print(f'the regression equation is: {equation}\\n')\n",
    "print(f'the r value is: {rvalue}\\n')\n",
    "plt.figure(figsize=(15,8))\n",
    "plt.scatter(traditional_stats['Wins'], traditional_stats['Assists'], s=50, c='steelblue')\n",
    "plt.plot(traditional_stats['Wins'], regress_values, '--', linewidth=0.5, color='red')\n",
    "plt.title('Wins to Assists',fontsize =20, color='midnightblue')\n",
    "plt.xlabel('Wins',fontsize=15, color='midnightblue')\n",
    "plt.ylabel('Assists',fontsize =15, color='midnightblue')\n",
    "plt.annotate(equation, xy=(275,5000), fontsize=20, color='red')\n",
    "plt.grid(color='royalblue', linestyle='--', linewidth=0.5)\n",
    "plt.show()"
   ]
  },
  {
   "cell_type": "code",
   "execution_count": null,
   "metadata": {},
   "outputs": [],
   "source": [
    "# Calculate the correlation coefficient and linear regression model for wins vs. field goals\n",
    "correlation_coefficient = round(sts.pearsonr(traditional_stats['Wins'], traditional_stats['Field Goals'])[0],4)\n",
    "\n",
    "print(f'The correlation coefficient for team Wins to team Field Goals is: {correlation_coefficient}\\n')\n",
    "\n",
    "(slope, intercept, rvalue, pvalue, stderr) = sts.linregress(traditional_stats['Wins'], traditional_stats['Field Goals'])\n",
    "regress_values = slope * traditional_stats['Wins'] + intercept\n",
    "#print(regress_values)\n",
    "\n",
    "equation = 'y = ' + str(round(slope, 2)) + 'x + ' + str(round(intercept, 2))\n",
    "print(f'the regression equation is: {equation}\\n')\n",
    "print(f'the r value is: {rvalue}\\n')\n",
    "\n",
    "plt.figure(figsize=(15,8))\n",
    "plt.scatter(traditional_stats['Wins'], traditional_stats['Field Goals'], s=50, c='steelblue')\n",
    "#plt.scatter(traditional_stats['Wins'], traditional_stats['Assists'], s=50, c='green')\n",
    "plt.plot(traditional_stats['Wins'], regress_values, color='red')\n",
    "plt.title('Wins to Field Goals',fontsize =20, color='midnightblue')\n",
    "plt.xlabel('Wins',fontsize=15, color='midnightblue')\n",
    "plt.ylabel('Field Goals',fontsize =15, color='midnightblue')\n",
    "plt.annotate(equation, xy=(275,8000), fontsize=20, color='red')\n",
    "plt.grid(color='royalblue', linestyle='--', linewidth=0.5)\n",
    "plt.show()"
   ]
  },
  {
   "cell_type": "code",
   "execution_count": null,
   "metadata": {},
   "outputs": [],
   "source": [
    "# Calculate the correlation coefficient and linear regression model for wins vs. rebounds\n",
    "correlation_coefficient = round(sts.pearsonr(traditional_stats['Wins'], traditional_stats['Rebounds'])[0],4)\n",
    "\n",
    "print(f'The correlation coefficient for team Wins to team Rebounds is: {correlation_coefficient}\\n')\n",
    "\n",
    "(slope, intercept, rvalue, pvalue, stderr) = sts.linregress(traditional_stats['Wins'], traditional_stats['Rebounds'])\n",
    "regress_values = slope * traditional_stats['Wins'] + intercept\n",
    "#print(regress_values)\n",
    "\n",
    "equation = 'y = ' + str(round(slope, 2)) + 'x + ' + str(round(intercept, 2))\n",
    "print(f'the regression equation is: {equation}\\n')\n",
    "print(f'the r value is: {rvalue}\\n')\n",
    "\n",
    "plt.figure(figsize=(15,8))\n",
    "plt.scatter(traditional_stats['Wins'], traditional_stats['Rebounds'], s=50, c='steelblue')\n",
    "#plt.scatter(traditional_stats['Wins'], traditional_stats['Assists'], s=50, c='green')\n",
    "plt.plot(traditional_stats['Wins'], regress_values, color='red')\n",
    "plt.title('Wins to Rebounds',fontsize =20, color='midnightblue')\n",
    "plt.xlabel('Wins',fontsize=15, color='midnightblue')\n",
    "plt.ylabel('Rebounds',fontsize =15, color='midnightblue')\n",
    "plt.annotate(equation, xy=(275,9000), fontsize=20, color='red')\n",
    "plt.grid(color='royalblue', linestyle='--', linewidth=0.5)\n",
    "plt.show()"
   ]
  },
  {
   "cell_type": "code",
   "execution_count": null,
   "metadata": {},
   "outputs": [],
   "source": [
    "# charting team Traditional Stats against team Wins\n",
    "\n",
    "fig, ax1 = plt.subplots(figsize=(19, 8))\n",
    "ax2 = ax1.twinx()\n",
    "\n",
    "traditional_stats['Wins'].plot(kind='bar', color='cadetblue', ax=ax1)\n",
    "traditional_stats['Points'].plot(kind='line', marker='o', color='chocolate', linewidth=4, ax=ax2)\n",
    "traditional_stats['Assists'].plot(kind='line', marker='o', color='gold', linewidth=4,ax=ax2)\n",
    "traditional_stats['Field Goals'].plot(kind='line', marker='o', color='limegreen', linewidth=4,ax=ax2)\n",
    "traditional_stats['Rebounds'].plot(kind='line', marker='o', color='crimson', linewidth=4,ax=ax2)\n",
    "\n",
    "ax1.yaxis.tick_right()\n",
    "ax2.yaxis.tick_left()\n",
    "\n",
    "ax1.legend(['Wins'], loc='best',fontsize =15)\n",
    "ax2.legend(['Points','Assists','Field Goals','Rebounds'], loc='upper left', fontsize =15)\n",
    "ax1.set_title('Wins to Traditional Stats',fontsize =20, color='midnightblue')\n",
    "ax1.set_xticklabels(traditional_stats['Teams'],fontsize =15, color='midnightblue')\n",
    "ax1.set_xlabel('Teams',fontsize =20, color='midnightblue')\n",
    "ax1.set_ylabel('Stats',fontsize =15, color='midnightblue')\n",
    "ax2.set_ylabel('Wins',fontsize =15, color='midnightblue')\n",
    "fig.tight_layout()\n",
    "plt.show()"
   ]
  },
  {
   "cell_type": "code",
   "execution_count": null,
   "metadata": {},
   "outputs": [],
   "source": []
  }
 ],
 "metadata": {
  "kernelspec": {
   "display_name": "Python 3",
   "language": "python",
   "name": "python3"
  },
  "language_info": {
   "codemirror_mode": {
    "name": "ipython",
    "version": 3
   },
   "file_extension": ".py",
   "mimetype": "text/x-python",
   "name": "python",
   "nbconvert_exporter": "python",
   "pygments_lexer": "ipython3",
   "version": "3.8.3"
  }
 },
 "nbformat": 4,
 "nbformat_minor": 4
}
