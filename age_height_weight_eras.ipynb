{
 "cells": [
  {
   "cell_type": "code",
   "execution_count": 20,
   "metadata": {},
   "outputs": [],
   "source": [
    "import pandas as pd\n",
    "import matplotlib.pyplot as plt\n"
   ]
  },
  {
   "cell_type": "code",
   "execution_count": 77,
   "metadata": {},
   "outputs": [
    {
     "data": {
      "text/html": [
       "<div>\n",
       "<style scoped>\n",
       "    .dataframe tbody tr th:only-of-type {\n",
       "        vertical-align: middle;\n",
       "    }\n",
       "\n",
       "    .dataframe tbody tr th {\n",
       "        vertical-align: top;\n",
       "    }\n",
       "\n",
       "    .dataframe thead th {\n",
       "        text-align: right;\n",
       "    }\n",
       "</style>\n",
       "<table border=\"1\" class=\"dataframe\">\n",
       "  <thead>\n",
       "    <tr style=\"text-align: right;\">\n",
       "      <th></th>\n",
       "      <th>Player</th>\n",
       "      <th>Year</th>\n",
       "      <th>Height</th>\n",
       "      <th>Weight</th>\n",
       "      <th>Age</th>\n",
       "      <th>MP</th>\n",
       "    </tr>\n",
       "  </thead>\n",
       "  <tbody>\n",
       "    <tr>\n",
       "      <th>859</th>\n",
       "      <td>Jason Collins</td>\n",
       "      <td>2007</td>\n",
       "      <td>84.0</td>\n",
       "      <td>255.0</td>\n",
       "      <td>28</td>\n",
       "      <td>1844</td>\n",
       "    </tr>\n",
       "    <tr>\n",
       "      <th>956</th>\n",
       "      <td>Michael Curry</td>\n",
       "      <td>2004</td>\n",
       "      <td>77.0</td>\n",
       "      <td>210.0</td>\n",
       "      <td>35</td>\n",
       "      <td>1229</td>\n",
       "    </tr>\n",
       "    <tr>\n",
       "      <th>1240</th>\n",
       "      <td>Nikoloz Tskitishvili</td>\n",
       "      <td>2003</td>\n",
       "      <td>84.0</td>\n",
       "      <td>225.0</td>\n",
       "      <td>19</td>\n",
       "      <td>1320</td>\n",
       "    </tr>\n",
       "    <tr>\n",
       "      <th>1365</th>\n",
       "      <td>Yakhouba Diawara</td>\n",
       "      <td>2007</td>\n",
       "      <td>79.0</td>\n",
       "      <td>225.0</td>\n",
       "      <td>24</td>\n",
       "      <td>1177</td>\n",
       "    </tr>\n",
       "    <tr>\n",
       "      <th>1385</th>\n",
       "      <td>Gerald Wilkins</td>\n",
       "      <td>1998</td>\n",
       "      <td>78.0</td>\n",
       "      <td>185.0</td>\n",
       "      <td>34</td>\n",
       "      <td>1252</td>\n",
       "    </tr>\n",
       "    <tr>\n",
       "      <th>...</th>\n",
       "      <td>...</td>\n",
       "      <td>...</td>\n",
       "      <td>...</td>\n",
       "      <td>...</td>\n",
       "      <td>...</td>\n",
       "      <td>...</td>\n",
       "    </tr>\n",
       "    <tr>\n",
       "      <th>17192</th>\n",
       "      <td>Michael Jordan</td>\n",
       "      <td>1990</td>\n",
       "      <td>78.0</td>\n",
       "      <td>195.0</td>\n",
       "      <td>26</td>\n",
       "      <td>3197</td>\n",
       "    </tr>\n",
       "    <tr>\n",
       "      <th>17200</th>\n",
       "      <td>Michael Jordan</td>\n",
       "      <td>1991</td>\n",
       "      <td>78.0</td>\n",
       "      <td>195.0</td>\n",
       "      <td>27</td>\n",
       "      <td>3034</td>\n",
       "    </tr>\n",
       "    <tr>\n",
       "      <th>17201</th>\n",
       "      <td>LeBron James</td>\n",
       "      <td>2013</td>\n",
       "      <td>80.0</td>\n",
       "      <td>240.0</td>\n",
       "      <td>28</td>\n",
       "      <td>2877</td>\n",
       "    </tr>\n",
       "    <tr>\n",
       "      <th>17203</th>\n",
       "      <td>Michael Jordan</td>\n",
       "      <td>1988</td>\n",
       "      <td>78.0</td>\n",
       "      <td>195.0</td>\n",
       "      <td>24</td>\n",
       "      <td>3311</td>\n",
       "    </tr>\n",
       "    <tr>\n",
       "      <th>17205</th>\n",
       "      <td>LeBron James</td>\n",
       "      <td>2009</td>\n",
       "      <td>80.0</td>\n",
       "      <td>240.0</td>\n",
       "      <td>24</td>\n",
       "      <td>3054</td>\n",
       "    </tr>\n",
       "  </tbody>\n",
       "</table>\n",
       "<p>8503 rows × 6 columns</p>\n",
       "</div>"
      ],
      "text/plain": [
       "                     Player  Year  Height  Weight  Age    MP\n",
       "859           Jason Collins  2007    84.0   255.0   28  1844\n",
       "956           Michael Curry  2004    77.0   210.0   35  1229\n",
       "1240   Nikoloz Tskitishvili  2003    84.0   225.0   19  1320\n",
       "1365       Yakhouba Diawara  2007    79.0   225.0   24  1177\n",
       "1385         Gerald Wilkins  1998    78.0   185.0   34  1252\n",
       "...                     ...   ...     ...     ...  ...   ...\n",
       "17192        Michael Jordan  1990    78.0   195.0   26  3197\n",
       "17200        Michael Jordan  1991    78.0   195.0   27  3034\n",
       "17201          LeBron James  2013    80.0   240.0   28  2877\n",
       "17203        Michael Jordan  1988    78.0   195.0   24  3311\n",
       "17205          LeBron James  2009    80.0   240.0   24  3054\n",
       "\n",
       "[8503 rows x 6 columns]"
      ]
     },
     "execution_count": 77,
     "metadata": {},
     "output_type": "execute_result"
    }
   ],
   "source": [
    "nba_frame = pd.read_csv('Resources/NBA Season Data.csv')\n",
    "nba_measures = nba_frame[['Player', 'Year', 'Height', 'Weight', 'Age', 'MP']]\n",
    "nba_measures = nba_measures[nba_measures['MP'] > 1000]\n",
    "nba_measures_clean = nba_measures.dropna(axis = 0, how = 'any')\n",
    "\n",
    "nba_measures_clean"
   ]
  },
  {
   "cell_type": "code",
   "execution_count": 78,
   "metadata": {},
   "outputs": [
    {
     "data": {
      "text/html": [
       "<div>\n",
       "<style scoped>\n",
       "    .dataframe tbody tr th:only-of-type {\n",
       "        vertical-align: middle;\n",
       "    }\n",
       "\n",
       "    .dataframe tbody tr th {\n",
       "        vertical-align: top;\n",
       "    }\n",
       "\n",
       "    .dataframe thead th {\n",
       "        text-align: right;\n",
       "    }\n",
       "</style>\n",
       "<table border=\"1\" class=\"dataframe\">\n",
       "  <thead>\n",
       "    <tr style=\"text-align: right;\">\n",
       "      <th></th>\n",
       "      <th>Player</th>\n",
       "      <th>Year</th>\n",
       "      <th>Height</th>\n",
       "      <th>Weight</th>\n",
       "      <th>Age</th>\n",
       "      <th>MP</th>\n",
       "      <th>Year_Bins</th>\n",
       "    </tr>\n",
       "  </thead>\n",
       "  <tbody>\n",
       "    <tr>\n",
       "      <th>859</th>\n",
       "      <td>Jason Collins</td>\n",
       "      <td>2007</td>\n",
       "      <td>84.0</td>\n",
       "      <td>255.0</td>\n",
       "      <td>28</td>\n",
       "      <td>1844</td>\n",
       "      <td>2000s</td>\n",
       "    </tr>\n",
       "    <tr>\n",
       "      <th>956</th>\n",
       "      <td>Michael Curry</td>\n",
       "      <td>2004</td>\n",
       "      <td>77.0</td>\n",
       "      <td>210.0</td>\n",
       "      <td>35</td>\n",
       "      <td>1229</td>\n",
       "      <td>2000s</td>\n",
       "    </tr>\n",
       "    <tr>\n",
       "      <th>1240</th>\n",
       "      <td>Nikoloz Tskitishvili</td>\n",
       "      <td>2003</td>\n",
       "      <td>84.0</td>\n",
       "      <td>225.0</td>\n",
       "      <td>19</td>\n",
       "      <td>1320</td>\n",
       "      <td>2000s</td>\n",
       "    </tr>\n",
       "    <tr>\n",
       "      <th>1365</th>\n",
       "      <td>Yakhouba Diawara</td>\n",
       "      <td>2007</td>\n",
       "      <td>79.0</td>\n",
       "      <td>225.0</td>\n",
       "      <td>24</td>\n",
       "      <td>1177</td>\n",
       "      <td>2000s</td>\n",
       "    </tr>\n",
       "    <tr>\n",
       "      <th>1385</th>\n",
       "      <td>Gerald Wilkins</td>\n",
       "      <td>1998</td>\n",
       "      <td>78.0</td>\n",
       "      <td>185.0</td>\n",
       "      <td>34</td>\n",
       "      <td>1252</td>\n",
       "      <td>1990s</td>\n",
       "    </tr>\n",
       "    <tr>\n",
       "      <th>...</th>\n",
       "      <td>...</td>\n",
       "      <td>...</td>\n",
       "      <td>...</td>\n",
       "      <td>...</td>\n",
       "      <td>...</td>\n",
       "      <td>...</td>\n",
       "      <td>...</td>\n",
       "    </tr>\n",
       "    <tr>\n",
       "      <th>17192</th>\n",
       "      <td>Michael Jordan</td>\n",
       "      <td>1990</td>\n",
       "      <td>78.0</td>\n",
       "      <td>195.0</td>\n",
       "      <td>26</td>\n",
       "      <td>3197</td>\n",
       "      <td>1990s</td>\n",
       "    </tr>\n",
       "    <tr>\n",
       "      <th>17200</th>\n",
       "      <td>Michael Jordan</td>\n",
       "      <td>1991</td>\n",
       "      <td>78.0</td>\n",
       "      <td>195.0</td>\n",
       "      <td>27</td>\n",
       "      <td>3034</td>\n",
       "      <td>1990s</td>\n",
       "    </tr>\n",
       "    <tr>\n",
       "      <th>17201</th>\n",
       "      <td>LeBron James</td>\n",
       "      <td>2013</td>\n",
       "      <td>80.0</td>\n",
       "      <td>240.0</td>\n",
       "      <td>28</td>\n",
       "      <td>2877</td>\n",
       "      <td>2010s</td>\n",
       "    </tr>\n",
       "    <tr>\n",
       "      <th>17203</th>\n",
       "      <td>Michael Jordan</td>\n",
       "      <td>1988</td>\n",
       "      <td>78.0</td>\n",
       "      <td>195.0</td>\n",
       "      <td>24</td>\n",
       "      <td>3311</td>\n",
       "      <td>1980s</td>\n",
       "    </tr>\n",
       "    <tr>\n",
       "      <th>17205</th>\n",
       "      <td>LeBron James</td>\n",
       "      <td>2009</td>\n",
       "      <td>80.0</td>\n",
       "      <td>240.0</td>\n",
       "      <td>24</td>\n",
       "      <td>3054</td>\n",
       "      <td>2000s</td>\n",
       "    </tr>\n",
       "  </tbody>\n",
       "</table>\n",
       "<p>8503 rows × 7 columns</p>\n",
       "</div>"
      ],
      "text/plain": [
       "                     Player  Year  Height  Weight  Age    MP Year_Bins\n",
       "859           Jason Collins  2007    84.0   255.0   28  1844     2000s\n",
       "956           Michael Curry  2004    77.0   210.0   35  1229     2000s\n",
       "1240   Nikoloz Tskitishvili  2003    84.0   225.0   19  1320     2000s\n",
       "1365       Yakhouba Diawara  2007    79.0   225.0   24  1177     2000s\n",
       "1385         Gerald Wilkins  1998    78.0   185.0   34  1252     1990s\n",
       "...                     ...   ...     ...     ...  ...   ...       ...\n",
       "17192        Michael Jordan  1990    78.0   195.0   26  3197     1990s\n",
       "17200        Michael Jordan  1991    78.0   195.0   27  3034     1990s\n",
       "17201          LeBron James  2013    80.0   240.0   28  2877     2010s\n",
       "17203        Michael Jordan  1988    78.0   195.0   24  3311     1980s\n",
       "17205          LeBron James  2009    80.0   240.0   24  3054     2000s\n",
       "\n",
       "[8503 rows x 7 columns]"
      ]
     },
     "execution_count": 78,
     "metadata": {},
     "output_type": "execute_result"
    }
   ],
   "source": [
    "#clone base dataset\n",
    "nba_eras = nba_measures_clean\n",
    "\n",
    "#create bins column in the cloned dataset, leaving the orginal intact\n",
    "nba_eras['Year_Bins'] = pd.cut(x = nba_measures_clean['Year'],\n",
    "                                    bins = [0, 1989, 1999, 2009, 2016],\n",
    "                                    labels = [\"1980s\", \"1990s\", \"2000s\", \"2010s\"])\n",
    "\n",
    "nba_eras\n",
    "\n",
    "#Do necessary calculations for all the age groups\n",
    "#create dataset for each age group first, this we can use in the next question to calculate the purchase analysis\n",
    "#Do the calculations on those datasets individually, for each age group\n",
    "\n"
   ]
  },
  {
   "cell_type": "code",
   "execution_count": 90,
   "metadata": {},
   "outputs": [
    {
     "data": {
      "text/plain": [
       "<matplotlib.axes._subplots.AxesSubplot at 0x14ead9e9f10>"
      ]
     },
     "execution_count": 90,
     "metadata": {},
     "output_type": "execute_result"
    },
    {
     "data": {
      "image/png": "[encoded data removed]",
      "text/plain": [
       "<Figure size 432x288 with 1 Axes>"
      ]
     },
     "metadata": {
      "needs_background": "light"
     },
     "output_type": "display_data"
    }
   ],
   "source": [
    "era_1980 = nba_eras[nba_eras['Year_Bins'] == '1980s']\n",
    "era_1990 = nba_eras[nba_eras['Year_Bins'] == '1990s']\n",
    "era_2000 = nba_eras[nba_eras['Year_Bins'] == '2000s']\n",
    "era_2019 = nba_eras[nba_eras['Year_Bins'] == '2010s']\n",
    "\n",
    "\n",
    "\n",
    "era_1980['Weight'].plot.density()\n",
    "era_1990['Weight'].plot.density()\n",
    "era_2000['Weight'].plot.density()\n",
    "era_2010['Weight'].plot.density()\n"
   ]
  },
  {
   "cell_type": "code",
   "execution_count": 87,
   "metadata": {},
   "outputs": [
    {
     "data": {
      "text/plain": [
       "<matplotlib.axes._subplots.AxesSubplot at 0x14ead8db0a0>"
      ]
     },
     "execution_count": 87,
     "metadata": {},
     "output_type": "execute_result"
    },
    {
     "data": {
      "image/png": "[encoded data removed]",
      "text/plain": [
       "<Figure size 432x288 with 1 Axes>"
      ]
     },
     "metadata": {
      "needs_background": "light"
     },
     "output_type": "display_data"
    }
   ],
   "source": [
    "era_1980['Height'].plot.density()\n",
    "era_1990['Height'].plot.density()\n",
    "era_2000['Height'].plot.density()\n",
    "era_2010['Height'].plot.density()\n"
   ]
  },
  {
   "cell_type": "code",
   "execution_count": 89,
   "metadata": {},
   "outputs": [
    {
     "data": {
      "text/plain": [
       "<matplotlib.axes._subplots.AxesSubplot at 0x14ead9a22e0>"
      ]
     },
     "execution_count": 89,
     "metadata": {},
     "output_type": "execute_result"
    },
    {
     "data": {
      "image/png": "[encoded data removed]",
      "text/plain": [
       "<Figure size 432x288 with 1 Axes>"
      ]
     },
     "metadata": {
      "needs_background": "light"
     },
     "output_type": "display_data"
    }
   ],
   "source": [
    "era_1980['Age'].plot.density()\n",
    "era_1990['Age'].plot.density()\n",
    "era_2000['Age'].plot.density()\n",
    "era_2010['Age'].plot.density()\n"
   ]
  },
  {
   "cell_type": "code",
   "execution_count": 91,
   "metadata": {},
   "outputs": [
    {
     "data": {
      "text/html": [
       "<div>\n",
       "<style scoped>\n",
       "    .dataframe tbody tr th:only-of-type {\n",
       "        vertical-align: middle;\n",
       "    }\n",
       "\n",
       "    .dataframe tbody tr th {\n",
       "        vertical-align: top;\n",
       "    }\n",
       "\n",
       "    .dataframe thead th {\n",
       "        text-align: right;\n",
       "    }\n",
       "</style>\n",
       "<table border=\"1\" class=\"dataframe\">\n",
       "  <thead>\n",
       "    <tr style=\"text-align: right;\">\n",
       "      <th></th>\n",
       "      <th>Eras</th>\n",
       "      <th>Average Height</th>\n",
       "      <th>Average Age</th>\n",
       "      <th>Average Weight</th>\n",
       "    </tr>\n",
       "  </thead>\n",
       "  <tbody>\n",
       "    <tr>\n",
       "      <th>0</th>\n",
       "      <td>1980</td>\n",
       "      <td>78.67</td>\n",
       "      <td>26.48</td>\n",
       "      <td>205.63</td>\n",
       "    </tr>\n",
       "    <tr>\n",
       "      <th>1</th>\n",
       "      <td>1990</td>\n",
       "      <td>78.75</td>\n",
       "      <td>27.46</td>\n",
       "      <td>210.85</td>\n",
       "    </tr>\n",
       "    <tr>\n",
       "      <th>2</th>\n",
       "      <td>2000</td>\n",
       "      <td>78.88</td>\n",
       "      <td>27.00</td>\n",
       "      <td>217.43</td>\n",
       "    </tr>\n",
       "    <tr>\n",
       "      <th>3</th>\n",
       "      <td>2010</td>\n",
       "      <td>78.69</td>\n",
       "      <td>26.62</td>\n",
       "      <td>218.74</td>\n",
       "    </tr>\n",
       "  </tbody>\n",
       "</table>\n",
       "</div>"
      ],
      "text/plain": [
       "   Eras  Average Height  Average Age  Average Weight\n",
       "0  1980           78.67        26.48          205.63\n",
       "1  1990           78.75        27.46          210.85\n",
       "2  2000           78.88        27.00          217.43\n",
       "3  2010           78.69        26.62          218.74"
      ]
     },
     "execution_count": 91,
     "metadata": {},
     "output_type": "execute_result"
    }
   ],
   "source": [
    "height_80 = round(era_1980['Height'].mean(), 2)\n",
    "weight_80 = round(era_1980['Weight'].mean(), 2)\n",
    "age_80 = round(era_1980['Age'].mean(),2)\n",
    "\n",
    "height_90 = round(era_1990['Height'].mean(), 2)\n",
    "weight_90 = round(era_1990['Weight'].mean(), 2)\n",
    "age_90 = round(era_1990['Age'].mean(),2)\n",
    "\n",
    "height_00 = round(era_2000['Height'].mean(), 2)\n",
    "weight_00 = round(era_2000['Weight'].mean(), 2)\n",
    "age_00 = round(era_2000['Age'].mean(),2)\n",
    "\n",
    "height_10 = round(era_2010['Height'].mean(), 2)\n",
    "weight_10 = round(era_2010['Weight'].mean(), 2)\n",
    "age_10 = round(era_2010['Age'].mean(),2)\n",
    "\n",
    "\n",
    "eras_size = pd.DataFrame({'Eras': [1980, 1990, 2000,2010],\n",
    "                                    'Average Height': [height_80, height_90, height_00, height_10],\n",
    "                                    'Average Age': [age_80, age_90, age_00, age_10],\n",
    "                                    'Average Weight': [weight_80, weight_90, weight_00, weight_10]})\n",
    "\n",
    "eras_size"
   ]
  },
  {
   "cell_type": "code",
   "execution_count": 83,
   "metadata": {},
   "outputs": [
    {
     "data": {
      "image/png": "[encoded data removed]",
      "text/plain": [
       "<Figure size 432x288 with 1 Axes>"
      ]
     },
     "metadata": {
      "needs_background": "light"
     },
     "output_type": "display_data"
    }
   ],
   "source": [
    "ax = plt.subplot(111)\n",
    "w = 2\n",
    "ax.bar(eras_size['Eras']-w, eras_size['Average Height'], width=w, color='b', align='center')\n",
    "ax.bar(eras_size['Eras'], eras_size['Average Weight'], width=w, color='g', align='center')\n",
    "ax.bar(eras_size['Eras']+w, eras_size['Average Age'], width=w, color='r', align='center')\n",
    "\n",
    "\n",
    "\n",
    "plt.show()"
   ]
  },
  {
   "cell_type": "code",
   "execution_count": null,
   "metadata": {},
   "outputs": [],
   "source": []
  },
  {
   "cell_type": "code",
   "execution_count": 84,
   "metadata": {},
   "outputs": [
    {
     "data": {
      "text/html": [
       "<div>\n",
       "<style scoped>\n",
       "    .dataframe tbody tr th:only-of-type {\n",
       "        vertical-align: middle;\n",
       "    }\n",
       "\n",
       "    .dataframe tbody tr th {\n",
       "        vertical-align: top;\n",
       "    }\n",
       "\n",
       "    .dataframe thead th {\n",
       "        text-align: right;\n",
       "    }\n",
       "</style>\n",
       "<table border=\"1\" class=\"dataframe\">\n",
       "  <thead>\n",
       "    <tr style=\"text-align: right;\">\n",
       "      <th></th>\n",
       "      <th>Eras</th>\n",
       "      <th>Average Height</th>\n",
       "      <th>Average Age</th>\n",
       "      <th>Average Weight</th>\n",
       "    </tr>\n",
       "  </thead>\n",
       "  <tbody>\n",
       "    <tr>\n",
       "      <th>0</th>\n",
       "      <td>1980</td>\n",
       "      <td>79.0</td>\n",
       "      <td>26.0</td>\n",
       "      <td>208.0</td>\n",
       "    </tr>\n",
       "    <tr>\n",
       "      <th>1</th>\n",
       "      <td>1990</td>\n",
       "      <td>79.0</td>\n",
       "      <td>27.0</td>\n",
       "      <td>210.0</td>\n",
       "    </tr>\n",
       "    <tr>\n",
       "      <th>2</th>\n",
       "      <td>2000</td>\n",
       "      <td>79.0</td>\n",
       "      <td>27.0</td>\n",
       "      <td>219.0</td>\n",
       "    </tr>\n",
       "    <tr>\n",
       "      <th>3</th>\n",
       "      <td>2010</td>\n",
       "      <td>79.0</td>\n",
       "      <td>26.0</td>\n",
       "      <td>220.0</td>\n",
       "    </tr>\n",
       "  </tbody>\n",
       "</table>\n",
       "</div>"
      ],
      "text/plain": [
       "   Eras  Average Height  Average Age  Average Weight\n",
       "0  1980            79.0         26.0           208.0\n",
       "1  1990            79.0         27.0           210.0\n",
       "2  2000            79.0         27.0           219.0\n",
       "3  2010            79.0         26.0           220.0"
      ]
     },
     "execution_count": 84,
     "metadata": {},
     "output_type": "execute_result"
    }
   ],
   "source": [
    "height_80_3 = round(era_1980['Height'].median(), 2)\n",
    "weight_80_3 = round(era_1980['Weight'].median(), 2)\n",
    "age_80_3 = round(era_1980['Age'].median(),2)\n",
    "\n",
    "era_1990_3 = nba_eras[nba_eras['Year_Bins'] == '1990s']\n",
    "height_90_3 = round(era_1990['Height'].median(), 2)\n",
    "weight_90_3 = round(era_1990['Weight'].median(), 2)\n",
    "age_90_3 = round(era_1990['Age'].median(),2)\n",
    "\n",
    "era_2000_3 = nba_eras[nba_eras['Year_Bins'] == '2000s']\n",
    "height_00_3 = round(era_2000['Height'].median(), 2)\n",
    "weight_00_3 = round(era_2000['Weight'].median(), 2)\n",
    "age_00_3 = round(era_2000['Age'].median(),2)\n",
    "\n",
    "era_2010_3 = nba_eras[nba_eras['Year_Bins'] == '2010s']\n",
    "height_10_3 = round(era_2010['Height'].median(), 2)\n",
    "weight_10_3 = round(era_2010['Weight'].median(), 2)\n",
    "age_10_3 = round(era_2010['Age'].median(),2)\n",
    "\n",
    "\n",
    "eras_size_3 = pd.DataFrame({'Eras': [1980, 1990, 2000,2010],\n",
    "                                    'Average Height': [height_80_3, height_90_3, height_00_3, height_10_3],\n",
    "                                    'Average Age': [age_80_3, age_90_3, age_00_3, age_10_3],\n",
    "                                    'Average Weight': [weight_80_3, weight_90_3, weight_00_3, weight_10_3]})\n",
    "\n",
    "\n",
    "eras_size_3"
   ]
  },
  {
   "cell_type": "code",
   "execution_count": 85,
   "metadata": {},
   "outputs": [
    {
     "data": {
      "image/png": "[encoded data removed]",
      "text/plain": [
       "<Figure size 432x288 with 1 Axes>"
      ]
     },
     "metadata": {
      "needs_background": "light"
     },
     "output_type": "display_data"
    }
   ],
   "source": [
    "ax = plt.subplot(111)\n",
    "w = 2\n",
    "ax.bar(eras_size_3['Eras']-w, eras_size_3['Average Height'], width=w, color='b', align='center')\n",
    "ax.bar(eras_size_3['Eras'], eras_size_3['Average Weight'], width=w, color='g', align='center')\n",
    "ax.bar(eras_size_3['Eras']+w, eras_size_3['Average Age'], width=w, color='r', align='center')\n",
    "\n",
    "\n",
    "\n",
    "plt.show()"
   ]
  },
  {
   "cell_type": "code",
   "execution_count": null,
   "metadata": {},
   "outputs": [],
   "source": []
  },
  {
   "cell_type": "code",
   "execution_count": null,
   "metadata": {},
   "outputs": [],
   "source": []
  }
 ],
 "metadata": {
  "kernelspec": {
   "display_name": "Python 3",
   "language": "python",
   "name": "python3"
  },
  "language_info": {
   "codemirror_mode": {
    "name": "ipython",
    "version": 3
   },
   "file_extension": ".py",
   "mimetype": "text/x-python",
   "name": "python",
   "nbconvert_exporter": "python",
   "pygments_lexer": "ipython3",
   "version": "3.8.3"
  }
 },
 "nbformat": 4,
 "nbformat_minor": 4
}
