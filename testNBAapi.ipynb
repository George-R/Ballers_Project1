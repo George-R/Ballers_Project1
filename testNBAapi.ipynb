{
 "cells": [
  {
   "cell_type": "code",
   "execution_count": 56,
   "metadata": {},
   "outputs": [],
   "source": [
    "#!pip install nba_api\n",
    "#! pip install endpoints"
   ]
  },
  {
   "cell_type": "code",
   "execution_count": 6,
   "metadata": {},
   "outputs": [
    {
     "name": "stdout",
     "output_type": "stream",
     "text": [
      "<module 'nba_api.stats.endpoints.leaguedashplayerstats' from 'C:\\\\Users\\\\kienh\\\\anaconda3\\\\lib\\\\site-packages\\\\nba_api\\\\stats\\\\endpoints\\\\leaguedashplayerstats.py'>\n"
     ]
    }
   ],
   "source": [
    "#from nba_api.stats.endpoints import commonplayerinfo\n",
    "from nba_api.stats.endpoints import leaguedashplayerstats\n",
    "import pandas as pd\n",
    "import json\n",
    "import requests\n",
    "\n",
    "\n",
    "#url = 'https://stats.nba.com/stats/leaguedashplayerstats'\n",
    "\n",
    "# Basic Request\n",
    "#player_info = commonplayerinfo.CommonPlayerInfo(player_id=2544)\n",
    "#endpoints = leaguedashplayerstats\n",
    "player_info = leaguedashplayerstats\n",
    "#query_url = url + endpoints\n",
    "\n",
    "#def get_json(self):\n",
    "#    return self.LeagueDashPlayerStats.get_json()\n",
    "    #return json.dumps(self.LeagueDashPlayerStats)\n",
    "    \n",
    "#def get_json(self):\n",
    " #   return self.nba_response.get_json()\n",
    "#response = requests.get(url).json()\n",
    "#response\n",
    "\n",
    "print(player_info)"
   ]
  },
  {
   "cell_type": "code",
   "execution_count": 60,
   "metadata": {},
   "outputs": [],
   "source": [
    "from nba_api.stats.static import players\n",
    "# Get all players.\n",
    "#players.get_players()"
   ]
  },
  {
   "cell_type": "code",
   "execution_count": 29,
   "metadata": {},
   "outputs": [],
   "source": [
    "#url = 'https://stats.nba.com/stats/leaguedashplayerstats'\n",
    "#playerStats = requests.get(leaguedashplayerstats).json()\n",
    "\n"
   ]
  },
  {
   "cell_type": "code",
   "execution_count": null,
   "metadata": {},
   "outputs": [],
   "source": []
  }
 ],
 "metadata": {
  "kernelspec": {
   "display_name": "Python 3",
   "language": "python",
   "name": "python3"
  },
  "language_info": {
   "codemirror_mode": {
    "name": "ipython",
    "version": 3
   },
   "file_extension": ".py",
   "mimetype": "text/x-python",
   "name": "python",
   "nbconvert_exporter": "python",
   "pygments_lexer": "ipython3",
   "version": "3.8.3"
  }
 },
 "nbformat": 4,
 "nbformat_minor": 4
}
